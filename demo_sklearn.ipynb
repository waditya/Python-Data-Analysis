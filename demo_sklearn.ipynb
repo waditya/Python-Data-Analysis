{
 "cells": [
  {
   "cell_type": "code",
   "execution_count": 10,
   "metadata": {
    "collapsed": true
   },
   "outputs": [],
   "source": [
    "from sklearn import datasets\n",
    "from sklearn.cluster import KMeans\n",
    "import matplotlib.pyplot as plt"
   ]
  },
  {
   "cell_type": "code",
   "execution_count": 11,
   "metadata": {},
   "outputs": [
    {
     "name": "stdout",
     "output_type": "stream",
     "text": [
      "['setosa' 'versicolor' 'virginica']\n"
     ]
    }
   ],
   "source": [
    "if __name__ == '__main__':\n",
    "    # Load the data\n",
    "    iris = datasets.load_iris()\n",
    "    X = iris.data\n",
    "    petal_length = X[:, 2]\n",
    "    petal_width = X[:, 3]\n",
    "    true_labels = iris.target\n",
    "    \n",
    "    # Apply KMeans clustering\n",
    "    estimator = KMeans(n_clusters=3)\n",
    "    estimator.fit(X)\n",
    "    predicted_labels = estimator.labels_\n",
    "    \n",
    "    # Color scheme definition: red, yellow and blue\n",
    "    color_scheme = ['r', 'y', 'b']\n",
    "    # Markers definition: circle, \"x\" and \"plus\"\n",
    "    marker_list = ['o', 'x', '+']\n",
    "    # Assign colors/markers to the predicted labels\n",
    "    colors_predicted_labels = [color_scheme[lab] for lab in\n",
    "    predicted_labels]\n",
    "    markers_predicted = [marker_list[lab] for lab in\n",
    "    predicted_labels]\n",
    "    \n",
    "    # Assign colors/markers to the true labels\n",
    "    colors_true_labels = [color_scheme[lab] for lab in true_labels]\n",
    "    markers_true = [marker_list[lab] for lab in true_labels]\n",
    "    # Plot and save the two scatter plots\n",
    "    for x, y, c, m in zip(petal_width, petal_length,colors_predicted_labels,markers_predicted):\n",
    "        plt.scatter(x, y, c=c, marker=m)\n",
    "        plt.savefig('iris_clusters.png')\n",
    "    for x, y, c, m in zip(petal_width,petal_length,colors_true_labels,markers_true):\n",
    "        plt.scatter(x, y, c=c, marker=m)\n",
    "        plt.savefig('iris_true_labels.png')\n",
    "    print(iris.target_names)"
   ]
  },
  {
   "cell_type": "code",
   "execution_count": null,
   "metadata": {},
   "outputs": [],
   "source": [
    "    "
   ]
  },
  {
   "cell_type": "code",
   "execution_count": null,
   "metadata": {
    "collapsed": true
   },
   "outputs": [],
   "source": []
  }
 ],
 "metadata": {
  "kernelspec": {
   "display_name": "Python 3",
   "language": "python",
   "name": "python3"
  },
  "language_info": {
   "codemirror_mode": {
    "name": "ipython",
    "version": 3
   },
   "file_extension": ".py",
   "mimetype": "text/x-python",
   "name": "python",
   "nbconvert_exporter": "python",
   "pygments_lexer": "ipython3",
   "version": "3.6.2"
  }
 },
 "nbformat": 4,
 "nbformat_minor": 2
}
